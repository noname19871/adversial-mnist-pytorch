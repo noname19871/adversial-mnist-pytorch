{
  "nbformat": 4,
  "nbformat_minor": 0,
  "metadata": {
    "colab": {
      "name": "adversial_mnist_autograd.ipynb",
      "provenance": []
    },
    "kernelspec": {
      "name": "python3",
      "display_name": "Python 3"
    }
  },
  "cells": [
    {
      "cell_type": "code",
      "metadata": {
        "id": "qitia9xLmTh8",
        "colab_type": "code",
        "colab": {}
      },
      "source": [
        "import numpy as np \n",
        "import torch\n",
        "from torch.autograd import Variable\n",
        "import torch.nn as nn \n",
        "import torch.nn.functional as F \n",
        "import torchvision \n",
        "import torch.optim as optim \n",
        "from torchvision import transforms\n",
        "from tqdm import *\n",
        "import matplotlib.pyplot as plt\n",
        "import pickle \n",
        "import random "
      ],
      "execution_count": 0,
      "outputs": []
    },
    {
      "cell_type": "code",
      "metadata": {
        "id": "auAw8pBK7pRL",
        "colab_type": "code",
        "colab": {}
      },
      "source": [
        "epsilons = [0, 0.1, 0.2, 0.3, 0.4, 0.5]\n",
        "pretrained_model = \"lenet_mnist_model.pth\"\n",
        "use_cuda=True"
      ],
      "execution_count": 0,
      "outputs": []
    },
    {
      "cell_type": "code",
      "metadata": {
        "id": "J5Mv9wHO2DXv",
        "colab_type": "code",
        "colab": {}
      },
      "source": [
        "class LeNet(nn.Module):\n",
        "    def __init__(self):\n",
        "        super(LeNet, self).__init__()\n",
        "        self.conv1 = nn.Conv2d(1, 10, kernel_size=5)\n",
        "        self.conv2 = nn.Conv2d(10, 20, kernel_size=5)\n",
        "        self.conv2_drop = nn.Dropout2d()\n",
        "        self.fc1 = nn.Linear(320, 50)\n",
        "        self.fc2 = nn.Linear(50, 10)\n",
        "\n",
        "    def forward(self, x):\n",
        "        x = F.relu(F.max_pool2d(self.conv1(x), 2))\n",
        "        x = F.relu(F.max_pool2d(self.conv2_drop(self.conv2(x)), 2))\n",
        "        x = x.view(-1, 320)\n",
        "        x = F.relu(self.fc1(x))\n",
        "        x = F.dropout(x, training=self.training)\n",
        "        x = self.fc2(x)\n",
        "        return F.log_softmax(x, dim=1) "
      ],
      "execution_count": 0,
      "outputs": []
    },
    {
      "cell_type": "code",
      "metadata": {
        "id": "ZC4fJHwE2GXs",
        "colab_type": "code",
        "colab": {
          "base_uri": "https://localhost:8080/",
          "height": 153
        },
        "outputId": "142c0163-b57e-453b-97a3-582d6bffe5f3"
      },
      "source": [
        "test_loader = torch.utils.data.DataLoader(\n",
        "    datasets.MNIST('data/', train=False, download=True, transform=transforms.Compose([\n",
        "            transforms.ToTensor(),\n",
        "            ])),\n",
        "        batch_size=1, shuffle=True)\n",
        "\n",
        "print(\"CUDA Available: \",torch.cuda.is_available())\n",
        "device = torch.device(\"cuda\" if (use_cuda and torch.cuda.is_available()) else \"cpu\")\n",
        "\n",
        "model = LeNet().to(device)\n",
        "\n",
        "model.load_state_dict(torch.load(pretrained_model, map_location='cpu'))\n",
        "\n",
        "model.eval()"
      ],
      "execution_count": 12,
      "outputs": [
        {
          "output_type": "stream",
          "text": [
            "CUDA Available:  False\n"
          ],
          "name": "stdout"
        },
        {
          "output_type": "execute_result",
          "data": {
            "text/plain": [
              "LeNet(\n",
              "  (conv1): Conv2d(1, 10, kernel_size=(5, 5), stride=(1, 1))\n",
              "  (conv2): Conv2d(10, 20, kernel_size=(5, 5), stride=(1, 1))\n",
              "  (conv2_drop): Dropout2d(p=0.5, inplace=False)\n",
              "  (fc1): Linear(in_features=320, out_features=50, bias=True)\n",
              "  (fc2): Linear(in_features=50, out_features=10, bias=True)\n",
              ")"
            ]
          },
          "metadata": {
            "tags": []
          },
          "execution_count": 12
        }
      ]
    },
    {
      "cell_type": "code",
      "metadata": {
        "id": "-u5jCg3n2OgA",
        "colab_type": "code",
        "colab": {}
      },
      "source": [
        "SoftmaxWithXent = nn.CrossEntropyLoss()"
      ],
      "execution_count": 0,
      "outputs": []
    },
    {
      "cell_type": "code",
      "metadata": {
        "id": "Vqk2GOWP5gvS",
        "colab_type": "code",
        "colab": {}
      },
      "source": [
        "noises = [] \n",
        "y_preds = []\n",
        "y_preds_adversarial = [] \n",
        "totalMisclassifications = 0\n",
        "xs_clean = [] \n",
        "y_trues_clean = []"
      ],
      "execution_count": 0,
      "outputs": []
    },
    {
      "cell_type": "code",
      "metadata": {
        "id": "XtNe8t8T5gwy",
        "colab_type": "code",
        "colab": {}
      },
      "source": [
        "for x, y_true in test_loader:\n",
        "    # Wrap x as a variable \n",
        "    x = Variable(torch.FloatTensor(x), requires_grad=True)\n",
        "    y_true = Variable(torch.LongTensor(np.array([y_true])), requires_grad=False)\n",
        "\n",
        "    # Classification before Adv \n",
        "    y_pred =  np.argmax(model(x).data.numpy())\n",
        "    \n",
        "    # Generate Adversarial Image \n",
        "\n",
        "    # Forward pass\n",
        "    outputs = model(x)\n",
        "    loss = SoftmaxWithXent(outputs, y_true)\n",
        "    loss.backward() # obtain gradients on x\n",
        "\n",
        "     # Add perturbation\n",
        "    epsilon = 0.5\n",
        "    x_grad   = torch.sign(x.grad.data)\n",
        "    x_adversarial = torch.clamp(x.data + epsilon * x_grad, 0, 1) \n",
        "\n",
        "    # Classification after optimization  \n",
        "    y_pred_adversarial = np.argmax(model(Variable(x_adversarial)).data.numpy())\n",
        "    # print \"Before: {} | after: {}\".format(y_pred, y_pred_adversarial)\n",
        "    \n",
        "    # print \"Y_TRUE: {} | Y_PRED: {}\".format(_y_true, y_pred)\n",
        "    if y_true.data.numpy() != y_pred:\n",
        "        totalMisclassifications += 1\n",
        "    else:\n",
        "        y_preds.append(y_pred)\n",
        "        y_preds_adversarial.append(y_pred_adversarial)\n",
        "        noises.append( (x_adversarial - x.data).numpy() ) \n",
        "        xs_clean.append(x.data.numpy())\n",
        "        y_trues_clean.append(y_true.data.numpy())\n"
      ],
      "execution_count": 0,
      "outputs": []
    },
    {
      "cell_type": "code",
      "metadata": {
        "id": "qZ6PjnHf8nQb",
        "colab_type": "code",
        "colab": {
          "base_uri": "https://localhost:8080/",
          "height": 34
        },
        "outputId": "6704c3da-2e05-4cd7-e7ae-ce4a6c7847cf"
      },
      "source": [
        "print (\"Total totalMisclassifications : \", totalMisclassifications)"
      ],
      "execution_count": 33,
      "outputs": [
        {
          "output_type": "stream",
          "text": [
            "Total totalMisclassifications :  190\n"
          ],
          "name": "stdout"
        }
      ]
    },
    {
      "cell_type": "code",
      "metadata": {
        "id": "AT79MxOK8nSG",
        "colab_type": "code",
        "colab": {}
      },
      "source": [
        "with open(\"bulk_mnist_fgsd.pkl\",\"wb\") as f: \n",
        "    adv_data_dict = {\n",
        "            \"xs\" : xs_clean, \n",
        "            \"y_trues\" : y_trues_clean,\n",
        "            \"y_preds\" : y_preds,\n",
        "            \"noises\" : noises,\n",
        "            \"y_preds_adversarial\" : y_preds_adversarial\n",
        "            }    \n",
        "    pickle.dump(adv_data_dict, f)"
      ],
      "execution_count": 0,
      "outputs": []
    },
    {
      "cell_type": "code",
      "metadata": {
        "id": "qKYEjjjQ94X-",
        "colab_type": "code",
        "colab": {
          "base_uri": "https://localhost:8080/",
          "height": 302
        },
        "outputId": "4ec0d685-b576-4197-b1ec-affcc891a92d"
      },
      "source": [
        "import numpy as np\n",
        "import matplotlib.pyplot as plt \n",
        "import pickle \n",
        "import sys, os \n",
        "\n",
        "f = open(\"bulk_mnist_fgsd.pkl\", \"rb\")\n",
        "adv_data_dict = pickle.load(f) \n",
        "\n",
        "xs = adv_data_dict[\"xs\"]\n",
        "y_trues = adv_data_dict[\"y_trues\"]\n",
        "y_preds = adv_data_dict[\"y_preds\"]\n",
        "noises  = adv_data_dict[\"noises\"]\n",
        "y_preds_adversarial = adv_data_dict[\"y_preds_adversarial\"]  \n",
        "\n",
        "\n",
        "# import ipdb; ipdb.set_trace()\n",
        "# visualize N random images \n",
        "idxs = np.random.choice(range(50), size=(20,), replace=False)\n",
        "for matidx, idx in enumerate(idxs):\n",
        "    orig_im = xs[idx].reshape(28,28)\n",
        "    adv_im  = orig_im + noises[idx].reshape(28,28)\n",
        "    disp_im = np.concatenate((orig_im, adv_im), axis=1)\n",
        "    plt.subplot(5,4,matidx+1)\n",
        "    plt.imshow(disp_im, \"gray\")\n",
        "    plt.xticks([])\n",
        "    plt.yticks([])\n",
        "plt.show()\n",
        "    \n",
        "# Noise statistics \n",
        "# import ipdb; ipdb.set_trace()\n",
        "noises, xs, y_trues, y_preds = np.array(noises), np.array(xs), np.array(y_trues), np.array(y_preds)\n",
        "noises = noises.squeeze(axis=1)\n",
        "xs = xs.squeeze(axis=1)\n",
        "adv_exs = xs + noises  \n",
        "print (\"Adv examples: max, min: \", adv_exs.max(), adv_exs.min())\n",
        "print (\"Noise: Mean, Max, Min: \")\n",
        "print (np.mean(noises), np.max(noises), np.min(noises))"
      ],
      "execution_count": 35,
      "outputs": [
        {
          "output_type": "display_data",
          "data": {
            "image/png": "[encoded data removed]",
            "text/plain": [
              "<Figure size 432x288 with 20 Axes>"
            ]
          },
          "metadata": {
            "tags": []
          }
        },
        {
          "output_type": "stream",
          "text": [
            "Adv examples: max, min:  1.0 0.0\n",
            "Noise: Mean, Max, Min: \n",
            "0.17571296 0.5 -0.5\n"
          ],
          "name": "stdout"
        }
      ]
    },
    {
      "cell_type": "code",
      "metadata": {
        "id": "LoIHwoqc_HsL",
        "colab_type": "code",
        "colab": {
          "base_uri": "https://localhost:8080/",
          "height": 357
        },
        "outputId": "a0d34eb7-0db9-46bb-92bb-a3fab7a3e2c5"
      },
      "source": [
        "for i in range(20):\n",
        "  print(\"real: \" + str(y_trues[i][0]) + \" || \" + \"predicted: \" + str(y_preds[i]) + \" || adversial: \" + str(y_preds_adversarial[i]))"
      ],
      "execution_count": 42,
      "outputs": [
        {
          "output_type": "stream",
          "text": [
            "real: 6 || predicted: 6 || adversial: 8\n",
            "real: 1 || predicted: 1 || adversial: 8\n",
            "real: 9 || predicted: 9 || adversial: 2\n",
            "real: 2 || predicted: 2 || adversial: 8\n",
            "real: 2 || predicted: 2 || adversial: 8\n",
            "real: 1 || predicted: 1 || adversial: 8\n",
            "real: 9 || predicted: 9 || adversial: 8\n",
            "real: 2 || predicted: 2 || adversial: 8\n",
            "real: 9 || predicted: 9 || adversial: 8\n",
            "real: 9 || predicted: 9 || adversial: 8\n",
            "real: 0 || predicted: 0 || adversial: 2\n",
            "real: 6 || predicted: 6 || adversial: 2\n",
            "real: 0 || predicted: 0 || adversial: 8\n",
            "real: 1 || predicted: 1 || adversial: 5\n",
            "real: 9 || predicted: 9 || adversial: 8\n",
            "real: 1 || predicted: 1 || adversial: 8\n",
            "real: 1 || predicted: 1 || adversial: 8\n",
            "real: 7 || predicted: 7 || adversial: 8\n",
            "real: 1 || predicted: 1 || adversial: 8\n",
            "real: 0 || predicted: 0 || adversial: 2\n"
          ],
          "name": "stdout"
        }
      ]
    }
  ]
}